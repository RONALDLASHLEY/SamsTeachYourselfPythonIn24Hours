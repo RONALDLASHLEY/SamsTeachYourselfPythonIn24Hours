{
 "cells": [
  {
   "cell_type": "markdown",
   "metadata": {},
   "source": [
    "\"\"\"\n",
    "Sams Teach Yourself Python in 24 Hours\n",
    "by Katie Cunningham\n",
    "Hour 8: Using Functions to Create Reusable Code\n",
    "Exercise:\n",
    "1. Write a program taht gets a name from a user. If that name appears in a class list, then the program should tell the user that the student is in that class. If not, it should tell the user that there's no student by that name. There should be a function that returns True if the student is present and False if not.\n",
    "The output should look like:\n",
    "    Welcome to the student checker!\n",
    "    Please give me the name of a student (enter 'q' to quit): student1\n",
    "    No, that student is not in the class.\n",
    "    Please give me the name of a student (enter 'q' to quit): student2\n",
    "    Yes, that student is in the class!\n",
    "    Please give me the name of a student (enter 'q' to quit): q\n",
    "    Goodbye!\n",
    "\"\"\""
   ]
  },
  {
   "cell_type": "code",
   "execution_count": 2,
   "metadata": {},
   "outputs": [
    {
     "name": "stdout",
     "output_type": "stream",
     "text": [
      "Welcome to the student checker!\n",
      "Please give me the name of a student (enter 'q' to quit): student1\n",
      "No, that student is not in the class.\n",
      "Please give me the name of a student (enter 'q' to quit): student2\n",
      "Yes, that student is in the class!\n",
      "Please give me the name of a student (enter 'q' to quit): q\n",
      "Goodbye!\n"
     ]
    }
   ],
   "source": [
    "print('Welcome to the student checker!')\n",
    "\n",
    "students = ['student2']\n",
    "in_put = ''\n",
    "\n",
    "def student_checker(student):\n",
    "    if student in students:\n",
    "        print(\"Yes, that student is in the class!\")\n",
    "    elif student == 'q':\n",
    "        pass\n",
    "    else:\n",
    "        print(\"No, that student is not in the class.\")\n",
    "        \n",
    "def get_input(in_put):\n",
    "    while in_put != 'q':\n",
    "        in_put = raw_input(\"Please give me the name of a student (enter 'q' to quit): \")\n",
    "        student_checker(in_put)\n",
    "    else:\n",
    "        print(\"Goodbye!\")\n",
    "\n",
    "get_input(in_put)"
   ]
  },
  {
   "cell_type": "code",
   "execution_count": null,
   "metadata": {},
   "outputs": [],
   "source": []
  }
 ],
 "metadata": {
  "kernelspec": {
   "display_name": "Python 2",
   "language": "python",
   "name": "python2"
  },
  "language_info": {
   "codemirror_mode": {
    "name": "ipython",
    "version": 2
   },
   "file_extension": ".py",
   "mimetype": "text/x-python",
   "name": "python",
   "nbconvert_exporter": "python",
   "pygments_lexer": "ipython2",
   "version": "2.7.15"
  }
 },
 "nbformat": 4,
 "nbformat_minor": 2
}
